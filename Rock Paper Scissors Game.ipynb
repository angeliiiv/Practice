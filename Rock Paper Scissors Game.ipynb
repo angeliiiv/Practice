{
  "nbformat": 4,
  "nbformat_minor": 0,
  "metadata": {
    "colab": {
      "name": "Paper Rock Scissors.ipynb",
      "provenance": [],
      "authorship_tag": "ABX9TyOr1ALfIMwsAwBfvRIO5EmF",
      "include_colab_link": true
    },
    "kernelspec": {
      "name": "python3",
      "display_name": "Python 3"
    },
    "language_info": {
      "name": "python"
    }
  },
  "cells": [
    {
      "cell_type": "markdown",
      "metadata": {
        "id": "view-in-github",
        "colab_type": "text"
      },
      "source": [
        "<a href=\"https://colab.research.google.com/github/angeliiiv/Practice-/blob/main/Rock%20Paper%20Scissors%20Game.ipynb\" target=\"_parent\"><img src=\"https://colab.research.google.com/assets/colab-badge.svg\" alt=\"Open In Colab\"/></a>"
      ]
    },
    {
      "cell_type": "code",
      "execution_count": 4,
      "metadata": {
        "id": "3z_QKzcuyfPF"
      },
      "outputs": [],
      "source": [
        "import random"
      ]
    },
    {
      "cell_type": "markdown",
      "source": [
        "First we needed to establish the script to choose from a list of options that are limited to paper, rock, scissors. \n",
        "\n",
        "Now we will establish the rules of the game using conditional statement"
      ],
      "metadata": {
        "id": "U5MRH0IdzGR0"
      }
    },
    {
      "cell_type": "code",
      "source": [
        "#score tracker\n",
        "player_score = 0\n",
        "cpu_score = 0\n",
        "options = ['paper','rock','scissors']\n",
        "\n",
        "#loop to keep the game going till a player scores 3 points\n",
        "while (player_score and cpu_score) <3:\n",
        "  #CPU Choice\n",
        "  cpu_choice = random.choice(options)\n",
        "  #input from the user to select rock, paper, or scissors\n",
        "  user_choice = input('1...2...3...Choose: ')\n",
        "  user_choice_validation = options.__contains__(user_choice.lower())\n",
        "  #while loop to make sure the player enters a valid selection\n",
        "  while user_choice_validation == False:\n",
        "    user_choice = input('1...2...3...Choose: ').lower()\n",
        "    user_choice_validation = options.__contains__(user_choice)\n",
        "  #when the user choice is valid then the choices will be shown\n",
        "  else:\n",
        "    print('Player has chosen '+ user_choice)\n",
        "    print('CPU has chosen ' + cpu_choice)\n",
        "\n",
        "  #Game logic\n",
        "  if user_choice == 'rock' and cpu_choice == 'paper':\n",
        "    print('Paper covers rock...CPU wins')\n",
        "    cpu_score +=1\n",
        "    print('CPU Score: '+str(cpu_score))\n",
        "    print('Your Score: '+str(player_score))\n",
        "  elif user_choice == 'rock' and cpu_choice == 'scissors':\n",
        "    print('Rock crushes scissors...user wins')\n",
        "    player_score +=1\n",
        "    print('CPU Score: '+str(cpu_score))\n",
        "    print('Your Score: '+str(player_score))\n",
        "  elif user_choice == 'rock' and cpu_choice == 'rock':\n",
        "    print('user and CPU have tied')\n",
        "    print('CPU Score: '+str(cpu_score))\n",
        "    print('Your Score: '+str(player_score))\n",
        "  elif user_choice == 'paper' and cpu_choice == 'paper':\n",
        "    print('user and CPU have tied')\n",
        "    print('CPU Score: '+str(cpu_score))\n",
        "    print('Your Score: '+str(player_score))\n",
        "  elif user_choice == 'paper' and cpu_choice == 'scissors':\n",
        "    print('Scissors cuts paper...CPU wins')\n",
        "    cpu_score +=1\n",
        "    print('CPU Score: '+str(cpu_score))\n",
        "    print('Your Score: '+str(player_score))\n",
        "  elif user_choice == 'paper' and cpu_choice == 'rock':\n",
        "    print('Paper covers rock...user wins')\n",
        "    player_score +=1\n",
        "    print('CPU Score: '+str(cpu_score))\n",
        "    print('Your Score: '+str(player_score))\n",
        "  elif user_choice == 'scissors' and cpu_choice == 'paper':\n",
        "    print('Scissors cuts paper...user wins')\n",
        "    user_choice +=1\n",
        "    print('CPU Score: '+str(cpu_score))\n",
        "    print('Your Score: '+str(player_score))\n",
        "  elif user_choice == 'scissors' and cpu_choice == 'scissors':\n",
        "    print('user and CPU have tied')\n",
        "    print('CPU Score: '+str(cpu_score))\n",
        "    print('Your Score: '+str(player_score))\n",
        "  elif user_choice == 'scissors' and cpu_choice == 'rock':\n",
        "    print('Rock crushes scissors...CPU wins')\n",
        "    player_score +=1\n",
        "    print('CPU Score: '+str(cpu_score))\n",
        "    print('Your Score: '+str(player_score))\n",
        "#else to show winner when while loop condition has been met\n",
        "else:\n",
        "  if player_score == 3:\n",
        "    print('Congratulations, you win')\n",
        "    print('CPU Score: '+str(cpu_score))\n",
        "    print('Your Score: '+str(player_score))\n",
        "  elif cpu_score == 3:\n",
        "    print('Sorry, CPU wins')\n",
        "    print('CPU Score: '+str(cpu_score))\n",
        "    print('Your Score: '+str(player_score))\n",
        "\n",
        "\n",
        "\n",
        "\n",
        "\n",
        "\n",
        "\n"
      ],
      "metadata": {
        "colab": {
          "base_uri": "https://localhost:8080/"
        },
        "id": "xfsqw-2xy8-V",
        "outputId": "099b5dbf-05af-4001-b712-a0016b89bf64"
      },
      "execution_count": 12,
      "outputs": [
        {
          "output_type": "stream",
          "name": "stdout",
          "text": [
            "1...2...3...Choose: rock\n",
            "Player has chosen rock\n",
            "CPU has chosen paper\n",
            "Paper covers rock...CPU wins\n",
            "CPU Score: 1\n",
            "Your Score: 0\n",
            "1...2...3...Choose: rock\n",
            "Player has chosen rock\n",
            "CPU has chosen rock\n",
            "user and CPU have tied\n",
            "CPU Score: 1\n",
            "Your Score: 0\n",
            "1...2...3...Choose: rock\n",
            "Player has chosen rock\n",
            "CPU has chosen paper\n",
            "Paper covers rock...CPU wins\n",
            "CPU Score: 2\n",
            "Your Score: 0\n",
            "1...2...3...Choose: rock\n",
            "Player has chosen rock\n",
            "CPU has chosen rock\n",
            "user and CPU have tied\n",
            "CPU Score: 2\n",
            "Your Score: 0\n",
            "1...2...3...Choose: rock\n",
            "Player has chosen rock\n",
            "CPU has chosen scissors\n",
            "Rock crushes scissors...user wins\n",
            "CPU Score: 2\n",
            "Your Score: 1\n",
            "1...2...3...Choose: rock\n",
            "Player has chosen rock\n",
            "CPU has chosen scissors\n",
            "Rock crushes scissors...user wins\n",
            "CPU Score: 2\n",
            "Your Score: 2\n",
            "1...2...3...Choose: paper\n",
            "Player has chosen paper\n",
            "CPU has chosen paper\n",
            "user and CPU have tied\n",
            "CPU Score: 2\n",
            "Your Score: 2\n",
            "1...2...3...Choose: paper\n",
            "Player has chosen paper\n",
            "CPU has chosen scissors\n",
            "Scissors cuts paper...CPU wins\n",
            "CPU Score: 3\n",
            "Your Score: 2\n",
            "Sorry, CPU wins\n",
            "CPU Score: 3\n",
            "Your Score: 2\n"
          ]
        }
      ]
    }
  ]
}